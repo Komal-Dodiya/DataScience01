{
  "nbformat": 4,
  "nbformat_minor": 0,
  "metadata": {
    "colab": {
      "private_outputs": true,
      "provenance": []
    },
    "kernelspec": {
      "name": "python3",
      "display_name": "Python 3"
    },
    "language_info": {
      "name": "python"
    }
  },
  "cells": [
    {
      "cell_type": "code",
      "execution_count": null,
      "metadata": {
        "id": "kkpJT0lIK_ZP"
      },
      "outputs": [],
      "source": [
        "#Name : Komal Dodiya\n",
        "#Student ID : U01948955\n",
        "#Subject : Data Science\n",
        "\n",
        "\n",
        "import pandas as pd\n",
        "import numpy as np\n",
        "import matplotlib.pyplot as plt\n",
        "import seaborn as sns\n",
        "%matplotlib inline\n",
        "\n",
        "from google.colab import drive\n",
        "drive.mount('/content/drive')"
      ]
    },
    {
      "cell_type": "code",
      "source": [
        "daily_df = pd.read_csv('/content/drive/MyDrive/Colab Notebooks/New_A_SN_d_tot_V2.0.csv', sep=';')"
      ],
      "metadata": {
        "id": "Ywe17kmjL5rR"
      },
      "execution_count": null,
      "outputs": []
    },
    {
      "cell_type": "code",
      "source": [
        "daily_df.head()"
      ],
      "metadata": {
        "id": "AgscKbyQMT6K"
      },
      "execution_count": null,
      "outputs": []
    },
    {
      "cell_type": "code",
      "source": [
        "daily_df"
      ],
      "metadata": {
        "id": "X4xQ5i5HMXHr"
      },
      "execution_count": null,
      "outputs": []
    },
    {
      "cell_type": "code",
      "source": [
        "daily_df.info()"
      ],
      "metadata": {
        "id": "uk1DzzW7Mcc7"
      },
      "execution_count": null,
      "outputs": []
    },
    {
      "cell_type": "code",
      "source": [
        "daily_df.describe()"
      ],
      "metadata": {
        "id": "AbWpsgzCMll6"
      },
      "execution_count": null,
      "outputs": []
    },
    {
      "cell_type": "code",
      "source": [
        "daily_df.isnull().sum()"
      ],
      "metadata": {
        "id": "bQ5Pc1bQMwjy"
      },
      "execution_count": null,
      "outputs": []
    },
    {
      "cell_type": "code",
      "source": [
        "# Function to determine the time unit and create a datetime column\n",
        "def create_datetime_column(df):\n",
        "    # Check for year, month, and day columns\n",
        "    potential_date_cols = ['year', 'month', 'day']  # Initialize with common names\n",
        "\n",
        "    # Find actual column names in df that resemble year, month, day\n",
        "    for col in df.columns:\n",
        "      if \"year\" in col.lower():\n",
        "        potential_date_cols[0] = col\n",
        "      if \"month\" in col.lower():\n",
        "        potential_date_cols[1] = col\n",
        "      if \"day\" in col.lower():\n",
        "        potential_date_cols[2] = col\n",
        "\n",
        "    # Check if all date components exist\n",
        "    if all(col in df.columns for col in potential_date_cols):\n",
        "      try:\n",
        "        df['datetime'] = pd.to_datetime(df[potential_date_cols])\n",
        "        return df\n",
        "      except:\n",
        "        print(\"Error creating datetime column. Check data types in the date columns.\")\n",
        "        return df  # Return original DataFrame if error occurs\n",
        "    else:\n",
        "      print(\"Columns 'year', 'month', and 'day' (or similar) not found in the DataFrame.\")\n",
        "      return df\n",
        "\n",
        "\n",
        "import pandas as pd\n",
        "\n",
        "daily_df = pd.read_csv('/content/drive/MyDrive/Colab Notebooks/New_A_SN_d_tot_V2.0.csv', sep=';')\n",
        "daily_df = create_datetime_column(daily_df)\n",
        "\n",
        "daily_df.head()"
      ],
      "metadata": {
        "id": "viGlZb1KNCLr"
      },
      "execution_count": null,
      "outputs": []
    },
    {
      "cell_type": "code",
      "source": [
        "!pip install prophet\n",
        "\n",
        "from prophet import Prophet\n",
        "\n",
        "# Prepare the data for Prophet\n",
        "daily_df_prophet = daily_df[['datetime', 'total_sunspots']].rename(columns={'datetime': 'ds', 'total_sunspots': 'y'})\n",
        "\n",
        "# Create and fit the Prophet model\n",
        "model = Prophet()\n",
        "model.fit(daily_df_prophet)\n",
        "\n",
        "# Create future dates for prediction\n",
        "future = model.make_future_dataframe(periods=365, freq='D') # Predict for 365 days\n",
        "\n",
        "# Make predictions\n",
        "forecast = model.predict(future)\n",
        "\n",
        "# Print predictions for 100, 200, and 365 days into the future\n",
        "print(\"Sunspot Predictions:\")\n",
        "for days in [100, 200, 365]:\n",
        "  predicted_sunspots = forecast.iloc[-days]['yhat']\n",
        "  print(f\"{days} days into the future: {predicted_sunspots}\")\n",
        "\n",
        "# Plot the forecast\n",
        "fig1 = model.plot(forecast)\n",
        "# Plot the components of the forecast\n",
        "fig2 = model.plot_components(forecast)"
      ],
      "metadata": {
        "id": "LGeD1YlhNLGD"
      },
      "execution_count": null,
      "outputs": []
    },
    {
      "cell_type": "code",
      "source": [
        "\n",
        "import pandas as pd\n",
        "\n",
        "daily_df = pd.read_csv('/content/drive/MyDrive/Colab Notebooks/New_A_SN_d_tot_V2.0.csv', sep=';')\n",
        "daily_df = create_datetime_column(daily_df)\n",
        "# Prepare the data for Prophet with yearly frequency\n",
        "yearly_df = daily_df.groupby(pd.Grouper(key='datetime', freq='Y')).sum().reset_index()\n",
        "yearly_df_prophet = yearly_df[['datetime', 'total_sunspots']].rename(columns={'datetime': 'ds', 'total_sunspots': 'y'})\n",
        "\n",
        "# Create and fit the Prophet model\n",
        "yearly_model = Prophet()\n",
        "yearly_model.fit(yearly_df_prophet)\n",
        "\n",
        "# Create future dates for prediction (in years)\n",
        "future_years = yearly_model.make_future_dataframe(periods=20, freq='Y')\n",
        "\n",
        "# Make predictions\n",
        "forecast_years = yearly_model.predict(future_years)\n",
        "\n",
        "# Print predictions for 1, 10, and 20 years into the future\n",
        "print(\"\\nSunspot Predictions (Yearly):\")\n",
        "for years in [1, 10, 20]:\n",
        "  predicted_sunspots = forecast_years.iloc[-years]['yhat']\n",
        "  print(f\"{years} years into the future: {predicted_sunspots}\")\n",
        "\n",
        "# Plot the yearly forecast\n",
        "fig5 = yearly_model.plot(forecast_years)\n",
        "plt.title(\"Yearly Sunspot Predictions\")\n",
        "plt.xlabel(\"Date\")\n",
        "plt.ylabel(\"Total Sunspots\")\n",
        "\n",
        "# Plot the components of the yearly forecast\n",
        "fig6 = yearly_model.plot_components(forecast_years)\n",
        "plt.title(\"Yearly Sunspot Components\")\n",
        "plt.xlabel(\"Date\")\n",
        "plt.ylabel(\"Values\")"
      ],
      "metadata": {
        "id": "6t9paO_JN-Hr"
      },
      "execution_count": null,
      "outputs": []
    },
    {
      "cell_type": "code",
      "source": [
        "from sklearn.metrics import mean_absolute_error, mean_absolute_percentage_error, r2_score\n",
        "\n",
        "# Prepare the data for Prophet\n",
        "daily_df_prophet = daily_df[['datetime', 'total_sunspots']].rename(columns={'datetime': 'ds', 'total_sunspots': 'y'})\n",
        "\n",
        "# Create and fit the Prophet model\n",
        "model = Prophet()\n",
        "model.fit(daily_df_prophet)\n",
        "\n",
        "# Create future dates for prediction\n",
        "future = model.make_future_dataframe(periods=365, freq='D') # Predict for 365 days\n",
        "\n",
        "# Make predictions\n",
        "forecast = model.predict(future)\n",
        "\n",
        "# Print predictions for 100, 200, and 365 days into the future\n",
        "print(\"Sunspot Predictions:\")\n",
        "for days in [100, 200, 365]:\n",
        "  predicted_sunspots = forecast.iloc[-days]['yhat']\n",
        "  print(f\"{days} days into the future: {predicted_sunspots}\")\n",
        "\n",
        "# Plot the forecast\n",
        "fig1 = model.plot(forecast)\n",
        "# Plot the components of the forecast\n",
        "fig2 = model.plot_components(forecast)\n",
        "\n",
        "# Function to evaluate the model\n",
        "def evaluate_model(y_true, y_pred):\n",
        "    mae = mean_absolute_error(y_true, y_pred)\n",
        "    mape = mean_absolute_percentage_error(y_true, y_pred)\n",
        "    r2 = r2_score(y_true, y_pred)\n",
        "    return mae, mape, r2\n",
        "\n",
        "#with different growth settings\n",
        "growth_settings = ['logistic', 'linear', 'flat']\n",
        "for growth in growth_settings:\n",
        "  model_growth = Prophet(growth=growth)\n",
        "\n",
        "  if growth == 'logistic':\n",
        "    capacity = daily_df_prophet['y'].max() * 1.1\n",
        "    daily_df_prophet['cap'] = capacity\n",
        "    future['cap'] = capacity\n",
        "  model_growth.fit(daily_df_prophet)\n",
        "  forecast_growth = model_growth.predict(future)\n",
        "  if growth == 'logistic':\n",
        "    daily_df_prophet = daily_df_prophet.drop('cap', axis=1)\n",
        "\n",
        "  # Evaluate the model for the current growth setting\n",
        "  mae_growth, mape_growth, r2_growth = evaluate_model(daily_df_prophet['y'][-365:], forecast_growth['yhat'][-365:]) # Evaluate using last 365 days\n",
        "  print(f\"\\nGrowth: {growth}\")\n",
        "  print(f\"MAE: {mae_growth}, MAPE: {mape_growth}, R2: {r2_growth}\")\n",
        "\n",
        "  print(f\"Predictions for {growth} growth:\")\n",
        "  for days in [100, 200, 365]:\n",
        "    predicted_sunspots = forecast_growth.iloc[-days]['yhat']\n",
        "    print(f\"{days} days into the future: {predicted_sunspots}\")\n",
        "\n",
        "#with different seasonalities\n",
        "seasonalities = [{'period': 30, 'fourier_order': 5}, {'period': 365, 'fourier_order': 10}]\n",
        "for season in seasonalities:\n",
        "  m = Prophet()\n",
        "  m.add_seasonality(name='custom_season', period=season['period'], fourier_order=season['fourier_order'])\n",
        "  m.fit(daily_df_prophet)\n",
        "  future_s = m.make_future_dataframe(periods=365, freq='D')\n",
        "  forecast_s = m.predict(future_s)\n",
        "  mae_s, mape_s, r2_s = evaluate_model(daily_df_prophet['y'][-365:], forecast_s['yhat'][-365:])\n",
        "  print(f\"\\nSeasonality: period={season['period']}, fourier_order={season['fourier_order']}\")\n",
        "  print(f\"MAE: {mae_s}, MAPE: {mape_s}, R2: {r2_s}\")\n",
        "\n",
        "  print(f\"Predictions for custom seasonality:\")\n",
        "  for days in [100, 200, 365]:\n",
        "      predicted_sunspots = forecast_s.iloc[-days]['yhat']\n",
        "      print(f\"{days} days into the future: {predicted_sunspots}\")\n",
        "\n",
        "#with different changepoint settings\n",
        "changepoint_settings = [{'n_changepoints': 10, 'changepoint_prior_scale': 0.05},\n",
        "                        {'n_changepoints': 25, 'changepoint_prior_scale': 0.5}]\n",
        "for setting in changepoint_settings:\n",
        "  m = Prophet(n_changepoints=setting['n_changepoints'], changepoint_prior_scale=setting['changepoint_prior_scale'])\n",
        "  m.fit(daily_df_prophet)\n",
        "  future_c = m.make_future_dataframe(periods=365, freq='D')\n",
        "  forecast_c = m.predict(future_c)\n",
        "  mae_c, mape_c, r2_c = evaluate_model(daily_df_prophet['y'][-365:], forecast_c['yhat'][-365:])\n",
        "  print(f\"\\nChangepoint: n_changepoints={setting['n_changepoints']}, changepoint_prior_scale={setting['changepoint_prior_scale']}\")\n",
        "  print(f\"MAE: {mae_c}, MAPE: {mape_c}, R2: {r2_c}\")\n",
        "\n",
        "  print(f\"Predictions for changepoint settings:\")\n",
        "  for days in [100, 200, 365]:\n",
        "      predicted_sunspots = forecast_c.iloc[-days]['yhat']\n",
        "      print(f\"{days} days into the future: {predicted_sunspots}\")"
      ],
      "metadata": {
        "id": "nYZepb3JCy3I"
      },
      "execution_count": null,
      "outputs": []
    },
    {
      "cell_type": "code",
      "source": [
        "# Prepare the data for Prophet with yearly frequency\n",
        "yearly_df = daily_df.groupby(pd.Grouper(key='datetime', freq='Y')).sum().reset_index()\n",
        "yearly_df_prophet = yearly_df[['datetime', 'total_sunspots']].rename(columns={'datetime': 'ds', 'total_sunspots': 'y'})\n",
        "\n",
        "# Define parameter settings to test\n",
        "growth_settings = ['logistic', 'linear', 'flat']\n",
        "seasonality_settings = [{'period': 10, 'fourier_order': 3}, {'period': 11, 'fourier_order': 5}] # Example seasonalities\n",
        "changepoint_settings = [{'n_changepoints': 5, 'changepoint_prior_scale': 0.01}, {'n_changepoints': 10, 'changepoint_prior_scale': 0.1}]\n",
        "\n",
        "# Store results for comparison\n",
        "results = []\n",
        "\n",
        "# Loop through each parameter combination\n",
        "for growth in growth_settings:\n",
        "    for seasonality in seasonality_settings:\n",
        "        for changepoint in changepoint_settings:\n",
        "            # Create and fit the Prophet model with the current settings\n",
        "            model = Prophet(growth=growth,\n",
        "                            n_changepoints=changepoint['n_changepoints'],\n",
        "                            changepoint_prior_scale=changepoint['changepoint_prior_scale'])\n",
        "            model.add_seasonality(name='custom_season', period=seasonality['period'], fourier_order=seasonality['fourier_order'])\n",
        "\n",
        "            if growth == 'logistic':\n",
        "                capacity = yearly_df_prophet['y'].max() * 1.1\n",
        "                yearly_df_prophet['cap'] = capacity\n",
        "\n",
        "            model.fit(yearly_df_prophet)\n",
        "\n",
        "            # Create future_years DataFrame here, after potentially adding 'cap'\n",
        "            future_years = model.make_future_dataframe(periods=20, freq='Y')\n",
        "\n",
        "            if growth == 'logistic':\n",
        "                future_years['cap'] = capacity # Add 'cap' to future_years for logistic growth\n",
        "\n",
        "            forecast_years = model.predict(future_years)\n",
        "            # Evaluate the model\n",
        "            mae, mape, r2 = evaluate_model(yearly_df_prophet['y'], forecast_years['yhat'][:-20])\n",
        "            predictions = [forecast_years['yhat'].iloc[-1], forecast_years['yhat'].iloc[-10], forecast_years['yhat'].iloc[-20]]\n",
        "\n",
        "            results.append({\n",
        "                'growth': growth,\n",
        "                'seasonality': seasonality,\n",
        "                'changepoint': changepoint,\n",
        "                'mae': mae,\n",
        "                'mape': mape,\n",
        "                'r2': r2,\n",
        "                'predictions': predictions  # Store predictions for 1, 10, 20 years\n",
        "            })\n",
        "\n",
        "# Display and analyze the results\n",
        "for result in results:\n",
        "    print(f\"Growth: {result['growth']}, Seasonality: {result['seasonality']}, Changepoint: {result['changepoint']}\")\n",
        "    print(f\"  MAE: {result['mae']:.2f}, MAPE: {result['mape']:.2f}, R2: {result['r2']:.2f}\")\n",
        "    print(\"  Predictions (1, 10, 20 years):\", result['predictions'])\n",
        "\n",
        "plt.show()"
      ],
      "metadata": {
        "id": "im_Zx0k1I7nS"
      },
      "execution_count": null,
      "outputs": []
    }
  ]
}