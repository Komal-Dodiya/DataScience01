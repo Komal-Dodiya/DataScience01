{
  "nbformat": 4,
  "nbformat_minor": 0,
  "metadata": {
    "colab": {
      "private_outputs": true,
      "provenance": []
    },
    "kernelspec": {
      "name": "python3",
      "display_name": "Python 3"
    },
    "language_info": {
      "name": "python"
    }
  },
  "cells": [
    {
      "cell_type": "code",
      "execution_count": null,
      "metadata": {
        "id": "jW9fHTslJv_H"
      },
      "outputs": [],
      "source": [
        "#Name : Komal Dodiya\n",
        "#Student ID : U01948955\n",
        "#Subject : Data Science\n",
        "\n",
        "\n",
        "import pandas as pd\n",
        "import numpy as np\n",
        "import matplotlib.pyplot as plt\n",
        "import seaborn as sns\n",
        "%matplotlib inline\n",
        "\n",
        "from google.colab import drive\n",
        "drive.mount('/content/drive')\n"
      ]
    },
    {
      "cell_type": "code",
      "source": [
        "month_df = pd.read_csv('/content/drive/MyDrive/Colab Notebooks/New_A_SN_m_tot_V2.0.csv', sep=';')"
      ],
      "metadata": {
        "id": "g-PEYThPM1q9"
      },
      "execution_count": null,
      "outputs": []
    },
    {
      "cell_type": "code",
      "source": [
        "month_df.head()"
      ],
      "metadata": {
        "id": "9UGYzhbTNKZN"
      },
      "execution_count": null,
      "outputs": []
    },
    {
      "cell_type": "code",
      "source": [
        "month_df.info()\n"
      ],
      "metadata": {
        "id": "RheJJ067NXiA"
      },
      "execution_count": null,
      "outputs": []
    },
    {
      "cell_type": "code",
      "source": [
        "month_df.describe()\n"
      ],
      "metadata": {
        "id": "OkxsV1U-Naup"
      },
      "execution_count": null,
      "outputs": []
    },
    {
      "cell_type": "code",
      "source": [
        "month_df.isnull().sum()"
      ],
      "metadata": {
        "id": "aSelGFqYNmCY"
      },
      "execution_count": null,
      "outputs": []
    },
    {
      "cell_type": "code",
      "source": [
        "month_df.duplicated().sum()"
      ],
      "metadata": {
        "id": "8NituijjNpmZ"
      },
      "execution_count": null,
      "outputs": []
    },
    {
      "cell_type": "code",
      "source": [
        "month_df.corr()"
      ],
      "metadata": {
        "id": "Hj8OMFMvNzq6"
      },
      "execution_count": null,
      "outputs": []
    },
    {
      "cell_type": "code",
      "source": [
        "time_cols = ['year', 'month']\n",
        "time_col = None\n",
        "\n",
        "for col in time_cols:\n",
        "    if col in month_df.columns:\n",
        "        time_col = col\n",
        "        break\n",
        "if time_col is not None:\n",
        "  print(f'Time column identified as: {time_col}')\n",
        "  # Further processing based on time_col, e.g.\n",
        "  # Convert the time column to datetime objects if not already\n",
        "  if not pd.api.types.is_datetime64_any_dtype(month_df[time_col]):\n",
        "      try:\n",
        "          month_df[time_col] = pd.to_datetime(month_df[time_col])\n",
        "      except ValueError:\n",
        "          print(\"Could not convert to datetime automatically. Please check the format of the time column.\")\n",
        "else:\n",
        "    print(\"Time column not identified. Please check the dataframe columns.\")"
      ],
      "metadata": {
        "id": "KWhiQEfnN7bK"
      },
      "execution_count": null,
      "outputs": []
    },
    {
      "cell_type": "code",
      "source": [
        "!pip install prophet\n",
        "\n",
        "from prophet import Prophet\n",
        "\n",
        "\n",
        "# Prepare the data for Prophet\n",
        "df_prophet = month_df[['year', 'month', 'total_sunspots']]\n",
        "df_prophet = df_prophet.rename(columns={'year':'year', 'month':'month', 'total_sunspots':'y'})\n",
        "df_prophet['ds'] = pd.to_datetime(df_prophet[['year', 'month']].assign(day=1))\n",
        "df_prophet = df_prophet[['ds', 'y']]\n",
        "\n",
        "# Create and fit the Prophet model\n",
        "model = Prophet()\n",
        "model.fit(df_prophet)\n",
        "\n",
        "# Reduce the prediction period\n",
        "future = model.make_future_dataframe(periods=120, freq='MS') # Predicting for 120 months instead of 365\n",
        "\n",
        "# Predict sunspots\n",
        "forecast = model.predict(future)\n",
        "\n",
        "# Print predictions for the specified future time periods\n",
        "# Adjusting future periods for the reduced prediction horizon\n",
        "future_periods = [50, 100, 120]\n",
        "for period in future_periods:\n",
        "  print(f\"\\nPrediction for {period} months into the future:\")\n",
        "  print(forecast[['ds', 'yhat']].tail(period))\n",
        "\n",
        "\n",
        "# Plotting the forecast\n",
        "fig1 = model.plot(forecast)\n",
        "plt.title(\"Sunspots Forecast\")\n",
        "plt.xlabel(\"Date\")\n",
        "plt.ylabel(\"Sunspots\")\n",
        "plt.show()\n",
        "\n",
        "\n",
        "# Plotting the components of the forecast\n",
        "fig2 = model.plot_components(forecast)\n",
        "plt.show()"
      ],
      "metadata": {
        "id": "AlnnMyEWPB0j"
      },
      "execution_count": null,
      "outputs": []
    },
    {
      "cell_type": "code",
      "source": [
        "# Predict sunspots for 1, 6, and 9 months into the future\n",
        "import pandas as pd # Make sure pandas is imported\n",
        "from prophet import Prophet\n",
        "\n",
        "# Recreate df_prophet in this cell:\n",
        "month_df = pd.read_csv('/content/drive/MyDrive/Colab Notebooks/New_A_SN_m_tot_V2.0.csv', sep=';')\n",
        "df_prophet = month_df[['year', 'month', 'total_sunspots']]\n",
        "df_prophet = df_prophet.rename(columns={'year':'year', 'month':'month', 'total_sunspots':'y'})\n",
        "df_prophet['ds'] = pd.to_datetime(df_prophet[['year', 'month']].assign(day=1))\n",
        "df_prophet = df_prophet[['ds', 'y']]\n",
        "\n",
        "# Create and fit the Prophet model (if not already done)\n",
        "model = Prophet()\n",
        "model.fit(df_prophet)\n",
        "\n",
        "future_periods = [1, 6, 9]  # Months into the future\n",
        "last_date = df_prophet['ds'].max()\n",
        "\n",
        "\n",
        "\n",
        "future_periods = [1, 6, 9]  # Months into the future\n",
        "last_date = df_prophet['ds'].max()\n",
        "\n",
        "for months in future_periods:\n",
        "    future_date = last_date + pd.DateOffset(months=months)\n",
        "    future_df = pd.DataFrame({'ds': [future_date]})\n",
        "    prediction = model.predict(future_df)\n",
        "    print(f\"\\nPrediction for {months} months into the future ({future_date.strftime('%Y-%m-%d')}):\")\n",
        "    print(f\"Sunspots: {prediction['yhat'].iloc[0]}\")\n",
        "\n",
        "\n",
        "\n"
      ],
      "metadata": {
        "id": "NFPpF6iGPU_R"
      },
      "execution_count": null,
      "outputs": []
    },
    {
      "cell_type": "code",
      "source": [
        "# Plotting the forecast for specific future periods\n",
        "import pandas as pd\n",
        "from prophet import Prophet\n",
        "\n",
        "# Recreate df_prophet in this cell to define 'model' and 'forecast':\n",
        "month_df = pd.read_csv('/content/drive/MyDrive/Colab Notebooks/New_A_SN_m_tot_V2.0.csv', sep=';')\n",
        "df_prophet = month_df[['year', 'month', 'total_sunspots']]\n",
        "df_prophet = df_prophet.rename(columns={'year':'year', 'month':'month', 'total_sunspots':'y'})\n",
        "df_prophet['ds'] = pd.to_datetime(df_prophet[['year', 'month']].assign(day=1))\n",
        "df_prophet = df_prophet[['ds', 'y']]\n",
        "\n",
        "# Create and fit the Prophet model\n",
        "model = Prophet()\n",
        "model.fit(df_prophet)\n",
        "\n",
        "# Reduce the prediction period (if needed)\n",
        "future = model.make_future_dataframe(periods=120, freq='MS')\n",
        "forecast = model.predict(future)\n",
        "\n",
        "# Now proceed with your plotting code\n",
        "fig3 = model.plot(forecast)\n",
        "plt.title(\"Sunspots Forecast with Specific Future Periods\")\n",
        "plt.xlabel(\"Date\")\n",
        "plt.ylabel(\"Sunspots\")\n",
        "plt.show()\n",
        "\n",
        "\n",
        "\n",
        "# Highlight the specific future predictions\n",
        "for months in future_periods:\n",
        "    future_date = last_date + pd.DateOffset(months=months)\n",
        "    plt.axvline(x=future_date, color='Green', linestyle='--', label=f'{months} months' if months == future_periods[0] else '')\n",
        "    prediction = model.predict(pd.DataFrame({'ds': [future_date]}))\n",
        "    plt.scatter(future_date, prediction['yhat'].iloc[0], color='red', s=50)\n",
        "\n",
        "plt.legend() # Show the legend for the highlighted points\n",
        "plt.show()"
      ],
      "metadata": {
        "id": "IbFqNk2DPW1f"
      },
      "execution_count": null,
      "outputs": []
    },
    {
      "cell_type": "code",
      "source": [
        "# Predict sunspots for 1, 10, and 20 years into the future\n",
        "import pandas as pd # Importing pandas to make sure it's available\n",
        "\n",
        "# Recreate df_prophet to ensure it's defined in this cell's scope\n",
        "month_df = pd.read_csv('/content/drive/MyDrive/Colab Notebooks/New_A_SN_m_tot_V2.0.csv', sep=';')\n",
        "df_prophet = month_df[['year', 'month', 'total_sunspots']]\n",
        "df_prophet = df_prophet.rename(columns={'year':'year', 'month':'month', 'total_sunspots':'y'})\n",
        "df_prophet['ds'] = pd.to_datetime(df_prophet[['year', 'month']].assign(day=1))\n",
        "df_prophet = df_prophet[['ds', 'y']]\n",
        "\n",
        "\n",
        "# Predict sunspots for 1, 10, and 20 years into the future\n",
        "future_periods_years = [1, 10, 20]  # Years into the future\n",
        "last_date = df_prophet['ds'].max()\n",
        "\n",
        "for years in future_periods_years:\n",
        "    # Instead of using pd.DateOffset, directly add years to the year component\n",
        "    future_year = last_date.year + years\n",
        "    future_date = pd.to_datetime(f\"{future_year}-{last_date.month}-{last_date.day}\")\n",
        "    future_df = pd.DataFrame({'ds': [future_date]})\n",
        "\n",
        "    # Try to handle the OverflowError by catching it and adjusting the prediction range\n",
        "    try:\n",
        "        prediction = model.predict(future_df)\n",
        "        print(f\"\\nPrediction for {years} years into the future ({future_date.strftime('%Y-%m-%d')}):\")\n",
        "        print(f\"Sunspots: {prediction['yhat'].iloc[0]}\")\n",
        "    except OverflowError:\n",
        "        print(f\"\\nOverflowError encountered when predicting {years} years into the future.\")\n",
        "        print(\"Consider reducing the prediction horizon or adjusting the dataset's time range.\")\n",
        "\n",
        "# If OverflowError occurs, try predicting for a shorter period\n",
        "        # For example, predict for half the original years:\n",
        "        years = years // 2  # Integer division to get half the years\n",
        "        future_year = last_date.year + years\n",
        "        future_date = pd.to_datetime(f\"{future_year}-{last_date.month}-{last_date.day}\")\n",
        "        future_df = pd.DataFrame({'ds': [future_date]})\n",
        "        prediction = model.predict(future_df) # Assuming this shorter prediction works\n",
        "        print(f\"\\nPrediction for {years} years into the future instead ({future_date.strftime('%Y-%m-%d')}):\")\n",
        "        print(f\"Sunspots: {prediction['yhat'].iloc[0]}\")\n",
        "\n",
        "# Plotting the forecast for specific future periods (in years)\n",
        "fig4 = model.plot(forecast)\n",
        "plt.title(\"Sunspots Forecast with Specific Future Periods (Years)\")\n",
        "plt.xlabel(\"Date\")\n",
        "plt.ylabel(\"Sunspots\")\n",
        "\n"
      ],
      "metadata": {
        "id": "5jL8WSZAPlDK"
      },
      "execution_count": null,
      "outputs": []
    },
    {
      "cell_type": "code",
      "source": [
        "from sklearn.metrics import mean_absolute_error, mean_absolute_percentage_error, r2_score\n",
        "import pandas as pd # Importing pandas to make sure it's available\n",
        "\n",
        "# Recreate df_prophet to ensure it's defined in this cell's scope\n",
        "month_df = pd.read_csv('/content/drive/MyDrive/Colab Notebooks/New_A_SN_m_tot_V2.0.csv', sep=';')\n",
        "df_prophet = month_df[['year', 'month', 'total_sunspots']]\n",
        "df_prophet = df_prophet.rename(columns={'year':'year', 'month':'month', 'total_sunspots':'y'})\n",
        "df_prophet['ds'] = pd.to_datetime(df_prophet[['year', 'month']].assign(day=1))\n",
        "df_prophet = df_prophet[['ds', 'y']]\n",
        "\n",
        "\n",
        "# Prepare the data for Prophet\n",
        "df_prophet = month_df[['year', 'month', 'total_sunspots']]\n",
        "df_prophet = df_prophet.rename(columns={'year':'year', 'month':'month', 'total_sunspots':'y'})\n",
        "df_prophet['ds'] = pd.to_datetime(df_prophet[['year', 'month']].assign(day=1))\n",
        "df_prophet = df_prophet[['ds', 'y']]\n",
        "\n",
        "# Create and fit the Prophet model\n",
        "model = Prophet()\n",
        "model.fit(df_prophet)\n",
        "\n",
        "# Reduce the prediction period\n",
        "future = model.make_future_dataframe(periods=120, freq='MS') # Predicting for 120 months instead of 365\n",
        "\n",
        "# Predict sunspots\n",
        "forecast = model.predict(future)\n",
        "\n",
        "# Print predictions for the specified future time periods\n",
        "# Adjusting future periods for the reduced prediction horizon\n",
        "future_periods = [50, 100, 120]\n",
        "for period in future_periods:\n",
        "  print(f\"\\nPrediction for {period} months into the future:\")\n",
        "  print(forecast[['ds', 'yhat']].tail(period))\n",
        "\n",
        "# Function to evaluate the model\n",
        "def evaluate_model(y_true, y_pred):\n",
        "    mae = mean_absolute_error(y_true, y_pred)\n",
        "    mape = mean_absolute_percentage_error(y_true, y_pred)\n",
        "    r2 = r2_score(y_true, y_pred)\n",
        "    return mae, mape, r2\n",
        "\n",
        "# Predictions for different time horizons (days)\n",
        "future_days = [100, 200, 365]\n",
        "for days in future_days:\n",
        "  future_date = df_prophet['ds'].max() + pd.DateOffset(days=days)\n",
        "  future_df = pd.DataFrame({'ds': [future_date]})\n",
        "  prediction = model.predict(future_df)\n",
        "  print(f\"\\nPrediction for {days} days into the future:\")\n",
        "  print(f\"Sunspots: {prediction['yhat'].iloc[0]}\")\n",
        "\n",
        "# Forecasting growth options\n",
        "growth_options = ['logistic', 'linear']\n",
        "for growth in growth_options:\n",
        "    model_growth = Prophet(growth=growth)\n",
        "\n",
        "    # Create a copy of df_prophet to avoid modifying the original dataframe\n",
        "    df_growth = df_prophet.copy()\n",
        "\n",
        "    if growth == 'logistic':\n",
        "        # Assuming 'total_sunspots' has an upper bound of 300\n",
        "        df_growth['cap'] = 300  # Add the 'cap' column to df_growth for logistic growth\n",
        "    model_growth.fit(df_growth)  # Fitting the model to the copy\n",
        "    future_growth = model_growth.make_future_dataframe(periods=365, freq='D')\n",
        "\n",
        "  # Add the 'cap' column to future_growth for logistic growth\n",
        "    if growth == 'logistic':\n",
        "        future_growth['cap'] = 300\n",
        "\n",
        "    forecast_growth = model_growth.predict(future_growth)\n",
        "    # Evaluate the model\n",
        "    y_true = df_prophet['y'].values\n",
        "    y_pred = forecast_growth['yhat'][:len(y_true)].values\n",
        "    mae, mape, r2 = evaluate_model(y_true, y_pred)\n",
        "    print(f\"\\nGrowth: {growth}\")\n",
        "    print(f\"MAE: {mae}, MAPE: {mape}, R2: {r2}\")\n",
        "\n",
        "# Seasonality testing\n",
        "periods = [30, 90, 365]\n",
        "fourier_orders = [3, 5, 7]\n",
        "for period in periods:\n",
        "    for order in fourier_orders:\n",
        "        model_seasonal = Prophet()\n",
        "        model_seasonal.add_seasonality(name='custom_seasonality', period=period, fourier_order=order)\n",
        "        model_seasonal.fit(df_prophet)\n",
        "        future_seasonal = model_seasonal.make_future_dataframe(periods=365, freq='D')\n",
        "        forecast_seasonal = model_seasonal.predict(future_seasonal)\n",
        "\n",
        "        y_true = df_prophet['y'].values\n",
        "        y_pred = forecast_seasonal['yhat'][:len(y_true)].values\n",
        "        mae, mape, r2 = evaluate_model(y_true, y_pred)\n",
        "\n",
        "        print(f\"\\nSeasonality - Period: {period}, Order: {order}\")\n",
        "        print(f\"MAE: {mae}, MAPE: {mape}, R2: {r2}\")\n",
        "\n",
        "\n",
        "# Trend changepoints tuning\n",
        "n_changepoints = [10, 20, 30]\n",
        "changepoint_prior_scales = [0.01, 0.1, 0.5]\n",
        "for n_cp in n_changepoints:\n",
        "  for cp_scale in changepoint_prior_scales:\n",
        "    model_changepoint = Prophet(n_changepoints=n_cp, changepoint_prior_scale=cp_scale)\n",
        "    model_changepoint.fit(df_prophet)\n",
        "    future_changepoint = model_changepoint.make_future_dataframe(periods=365, freq='D')\n",
        "    forecast_changepoint = model_changepoint.predict(future_changepoint)\n",
        "\n",
        "    y_true = df_prophet['y'].values\n",
        "    y_pred = forecast_changepoint['yhat'][:len(y_true)].values\n",
        "    mae, mape, r2 = evaluate_model(y_true, y_pred)\n",
        "\n",
        "    print(f\"\\nChangepoints - n_changepoints: {n_cp}, changepoint_prior_scale: {cp_scale}\")\n",
        "    print(f\"MAE: {mae}, MAPE: {mape}, R2: {r2}\")"
      ],
      "metadata": {
        "id": "fQrNECD1SCTo"
      },
      "execution_count": null,
      "outputs": []
    }
  ]
}